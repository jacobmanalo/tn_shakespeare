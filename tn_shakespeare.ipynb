{
 "cells": [
  {
   "cell_type": "code",
   "execution_count": 1,
   "metadata": {},
   "outputs": [],
   "source": [
    "from simple_gpt import SimpleGPTModel\n",
    "import torch"
   ]
  },
  {
   "cell_type": "markdown",
   "metadata": {},
   "source": [
    "First, we define the hyperparameters and the loss function."
   ]
  },
  {
   "cell_type": "code",
   "execution_count": 2,
   "metadata": {},
   "outputs": [],
   "source": [
    "# hyperparameters\n",
    "\n",
    "# MAKE SURE n_embd and n_head are POWERS OF 2\n",
    "\n",
    "batch_size = 8 # how many independent sequences will we process in parallel?\n",
    "block_size = 64 # what is the maximum context length for predictions?\n",
    "max_iters = 5000\n",
    "eval_interval = 500\n",
    "learning_rate = 1e-3\n",
    "device = 'cuda' if torch.cuda.is_available() else 'cpu'\n",
    "eval_iters = 200\n",
    "n_embd = 128 #number of embedding dimensions\n",
    "n_head = 4\n",
    "n_layer = 4\n",
    "dropout = 0.3\n",
    "\n",
    "# read file\n",
    "with open('training/input.txt', 'r', encoding='utf-8') as f:\n",
    "    text = f.read()\n",
    "\n",
    "chars = sorted(list(set(text)))\n",
    "vocab_size = len(chars)\n",
    "\n",
    "# tokenizer\n",
    "stoi = {ch:i for i, ch in enumerate(chars)}\n",
    "itos = {i:ch for i, ch in enumerate(chars)}\n",
    "encode = lambda s: [stoi[c] for c in s]\n",
    "decode = lambda l: ''.join([itos[i] for i in l])\n",
    "\n",
    "# training/validation split\n",
    "data = torch.tensor(encode(text), dtype=torch.long)\n",
    "n = int(0.7*len(data))\n",
    "train_data = data[:n]\n",
    "val_data = data[n:]\n",
    "\n",
    "# load data into batches\n",
    "\n",
    "def get_batch(split):\n",
    "    #generate small batch of data of x and y\n",
    "    data = train_data if split == 'train' else val_data\n",
    "    ix = torch.randint(len(data)-block_size, (batch_size,)) # generate random positions in data to sample\n",
    "    x = torch.stack([data[i:i+block_size] for i in ix])\n",
    "    y = torch.stack([data[i+1:i+block_size+1] for i in ix])\n",
    "    return x, y\n",
    "\n",
    "def estimate_loss():\n",
    "    out = {}\n",
    "    model.eval()\n",
    "    for split in ['train', 'val']:\n",
    "        losses = torch.zeros(eval_iters)\n",
    "        for k in range(eval_iters):\n",
    "            X, Y = get_batch(split)\n",
    "            logits, loss = model(X, Y)\n",
    "            losses[k] = loss.item()\n",
    "        out[split] = losses.mean()\n",
    "    model.train()\n",
    "    return out\n",
    "\n"
   ]
  },
  {
   "cell_type": "markdown",
   "metadata": {},
   "source": [
    "Now we train the GPT model with the Shakespeare text data to create the Shakespeare GPT model."
   ]
  },
  {
   "cell_type": "code",
   "execution_count": 3,
   "metadata": {},
   "outputs": [
    {
     "name": "stdout",
     "output_type": "stream",
     "text": [
      "step 0: train loss 4.3246, val loss 4.3227\n",
      "step 500: train loss 2.3152, val loss 2.3607\n",
      "step 1000: train loss 2.0933, val loss 2.1784\n",
      "step 1500: train loss 1.9845, val loss 2.0845\n",
      "step 2000: train loss 1.9023, val loss 2.0377\n",
      "step 2500: train loss 1.8373, val loss 2.0143\n",
      "step 3000: train loss 1.7864, val loss 1.9757\n",
      "step 3500: train loss 1.7377, val loss 1.9577\n",
      "step 4000: train loss 1.7188, val loss 1.9527\n",
      "step 4500: train loss 1.7004, val loss 1.9192\n"
     ]
    }
   ],
   "source": [
    "model = SimpleGPTModel(\n",
    "        vocab_size=vocab_size,\n",
    "        n_embd=n_embd, \n",
    "        block_size=block_size, \n",
    "        n_layer=n_layer,     \n",
    "        n_head=n_head,\n",
    "        device=device,\n",
    "        dropout=dropout\n",
    ")\n",
    "m = model.to(device)\n",
    "\n",
    "# Optimizer\n",
    "optimizer = torch.optim.AdamW(model.parameters(), lr=learning_rate)\n",
    "\n",
    "for iter in range(max_iters):\n",
    "\n",
    "    # every once in a while evaluate the loss on train and val sets\n",
    "    if iter % eval_interval == 0:\n",
    "        losses = estimate_loss()\n",
    "        print(f\"step {iter}: train loss {losses['train']:.4f}, val loss {losses['val']:.4f}\")\n",
    "\n",
    "    # sample a batch of data\n",
    "    xb, yb = get_batch('train')\n",
    "\n",
    "    # evaluate the loss\n",
    "    logits, loss = model(xb, yb)\n",
    "    optimizer.zero_grad(set_to_none=True)\n",
    "    loss.backward()\n",
    "    optimizer.step()\n",
    "\n",
    "    # generate from the model\n",
    "context = torch.zeros((1, 1), dtype=torch.long, device=device)"
   ]
  },
  {
   "cell_type": "markdown",
   "metadata": {},
   "source": [
    "Below is the sample output of the Shakespeare GPT model before tensor network decomposition is applied."
   ]
  },
  {
   "cell_type": "code",
   "execution_count": 4,
   "metadata": {},
   "outputs": [
    {
     "name": "stdout",
     "output_type": "stream",
     "text": [
      "\n",
      "Secount ou re meaty trear-ot nonew ficiused,\n",
      "Yelaw hus, who death our to your day your matitiver.\n",
      "\n",
      "ANUS:\n",
      "O slull you ad, kengils hititit's and from.\n",
      "\n",
      "GLOUCESTAR-WIS:\n",
      "not to are ipartix les my ounding,\n",
      "And Be bed hom my lee this on.\n",
      "Dispery's ave peatorty; and, who whenst Buld in?\n",
      "\n",
      "BUCHARD:\n",
      "Thou hand, no Mirth you, a usrueen make:\n",
      "The wash like a genor! say ere husunlice;\n",
      "And latumand I her held us Jynt;\n",
      "Ind be, if ther mjore the too her:\n",
      "Thy lor, ere day tray of the ause you thee s ar life,\n",
      "That\n"
     ]
    }
   ],
   "source": [
    "print(decode(m.generate(context, max_new_tokens=500)[0].tolist()))"
   ]
  },
  {
   "cell_type": "code",
   "execution_count": 5,
   "metadata": {},
   "outputs": [
    {
     "name": "stdout",
     "output_type": "stream",
     "text": [
      "816705\n"
     ]
    }
   ],
   "source": [
    "old_nparams = sum(p.numel() for p in model.parameters())\n",
    "print(old_nparams)"
   ]
  },
  {
   "cell_type": "markdown",
   "metadata": {},
   "source": [
    "The model before tensor network decomposition has 816,705 parameters"
   ]
  },
  {
   "cell_type": "code",
   "execution_count": 7,
   "metadata": {},
   "outputs": [],
   "source": [
    "import torch.nn as nn\n",
    "import numpy as np"
   ]
  },
  {
   "cell_type": "markdown",
   "metadata": {},
   "source": [
    "Here, we define the tensor network layer and its forward pass method."
   ]
  },
  {
   "cell_type": "code",
   "execution_count": 9,
   "metadata": {},
   "outputs": [],
   "source": [
    "class TTLayer(nn.Module):\n",
    "    # Code redacted"
   ]
  },
  {
   "cell_type": "markdown",
   "metadata": {},
   "source": [
    "Now we apply the tensor network decomposition to all of the self-attention layers."
   ]
  },
  {
   "cell_type": "code",
   "execution_count": null,
   "metadata": {},
   "outputs": [],
   "source": [
    "hs = n_embd // n_head\n",
    "ranks = NaN # Tensor rank redacted\n",
    "dim = int(np.log(n_embd * hs)/np.log(2))\n",
    "for name, param in model.named_parameters():\n",
    "    # This code is responsible for performing a tensor network decomposition of each key, value and query layer."
   ]
  },
  {
   "cell_type": "markdown",
   "metadata": {},
   "source": [
    "We do the same for the feed forward layers."
   ]
  },
  {
   "cell_type": "code",
   "execution_count": null,
   "metadata": {},
   "outputs": [],
   "source": [
    "# Now for MLP\n",
    "\n",
    "dim = int(np.log(4*n_embd*n_embd)/np.log(2))  \n",
    "ranks_mlp = 40\n",
    "for name, param in model.named_parameters():\n",
    "    # This code is responsible for performing a tensor network decomposition of each multilayer perceptrion layer."
   ]
  },
  {
   "cell_type": "code",
   "execution_count": 13,
   "metadata": {},
   "outputs": [],
   "source": [
    "m = model.to(device)"
   ]
  },
  {
   "cell_type": "code",
   "execution_count": 14,
   "metadata": {},
   "outputs": [
    {
     "name": "stdout",
     "output_type": "stream",
     "text": [
      "157249\n"
     ]
    }
   ],
   "source": [
    "new_nparam = sum(p.numel() for p in m.parameters())\n",
    "print(new_nparam)"
   ]
  },
  {
   "cell_type": "markdown",
   "metadata": {},
   "source": [
    "The model after tensor network decomposition has 157,249 parameters, 80% less than before!"
   ]
  },
  {
   "cell_type": "markdown",
   "metadata": {},
   "source": [
    "Below is sample output from the model after tensor network decomposition"
   ]
  },
  {
   "cell_type": "code",
   "execution_count": 15,
   "metadata": {},
   "outputs": [
    {
     "name": "stdout",
     "output_type": "stream",
     "text": [
      "\n",
      "Alorongelfort\n",
      "Telly thatsivend so he wrown\n",
      "Dothat think thou save there that her and slam and.tut not\n",
      "Drow him. Stir wis.\n",
      "\n",
      "Ford he is I haven?\n",
      "LAs that of sun:\n",
      "As with your I dele lorgent, froieht hind afe.\n",
      "My, Nownistatorablem untands upinalt Mostely'it;\n",
      "Thith Shre wheren's that to wherelf, the there\n",
      "Wis coifander-heard, him ow, delikel love.\n",
      "Thell therersellict that y?\n",
      "All is litch mest, ant the a boste shall.\n",
      "\n",
      "BUCKINGBURGURroliur:\n",
      "Stamius nay survawar, I sight, of I lard senly sectaling by\n",
      "Ye\n"
     ]
    }
   ],
   "source": [
    "print(decode(m.generate(context, max_new_tokens=500)[0].tolist()))"
   ]
  },
  {
   "cell_type": "code",
   "execution_count": 16,
   "metadata": {},
   "outputs": [
    {
     "name": "stdout",
     "output_type": "stream",
     "text": [
      "compression = 0.8074592417090627\n"
     ]
    }
   ],
   "source": [
    "comprss = 1-new_nparam/old_nparams\n",
    "print(f\"compression = {1-new_nparam/old_nparams}\")"
   ]
  },
  {
   "cell_type": "code",
   "execution_count": 17,
   "metadata": {},
   "outputs": [],
   "source": [
    "newloss = estimate_loss()"
   ]
  },
  {
   "cell_type": "code",
   "execution_count": 18,
   "metadata": {},
   "outputs": [],
   "source": [
    "acc_drop = (1-newloss['val']/losses['val'])*100"
   ]
  },
  {
   "cell_type": "code",
   "execution_count": 19,
   "metadata": {},
   "outputs": [
    {
     "name": "stdout",
     "output_type": "stream",
     "text": [
      "COMPRESSION: 80.74592417090626%\n",
      "ACCURACY DROP: -1.8731355667114258%\n"
     ]
    }
   ],
   "source": [
    "print(f\"COMPRESSION: {comprss*100}%\")\n",
    "print(f\"ACCURACY DROP: {acc_drop}%\")"
   ]
  },
  {
   "cell_type": "markdown",
   "metadata": {},
   "source": [
    "The tensor network method reduces the model size in number of parameters to 20% of its original size while yielding an accuracy drop of only 1.87%."
   ]
  }
 ],
 "metadata": {
  "kernelspec": {
   "display_name": "venv",
   "language": "python",
   "name": "python3"
  },
  "language_info": {
   "codemirror_mode": {
    "name": "ipython",
    "version": 3
   },
   "file_extension": ".py",
   "mimetype": "text/x-python",
   "name": "python",
   "nbconvert_exporter": "python",
   "pygments_lexer": "ipython3",
   "version": "3.11.7"
  }
 },
 "nbformat": 4,
 "nbformat_minor": 2
}
